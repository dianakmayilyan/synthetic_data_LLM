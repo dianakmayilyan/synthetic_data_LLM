{
 "cells": [
  {
   "cell_type": "markdown",
   "id": "74e527e7-d634-4cb0-a4c6-4fe6f1c29b51",
   "metadata": {},
   "source": [
    "**1. CTGAN**\n",
    "- strength: categorical handling, complex dependencies\n",
    "- limitations: training\n",
    "- suitable for: categorical and mixed data\n",
    "\n",
    "**2. TVAE**\n",
    "- strength: Fast training, both continuous and categorical support\n",
    "- limitations: Weaker dependencies\n",
    "- suitable for: Structured tabular data\n",
    "\n",
    "**3. Synthpop**\n",
    "- strength: Interpretable, low requirements\n",
    "- limitations: Limited complexity\n",
    "- suitable for: Small datasets, privacy-preserving\n",
    "\n",
    "**4. MedGAN**\n",
    "- strength: Sparse, binary data generation\n",
    "- limitations: Binary data only\n",
    "- suitable for: healthcare data\n",
    "\n",
    "**5. CopulaGAN**\n",
    "- strength: Captures dependencies via copulas\n",
    "- limitations: Not udeal for small data\n",
    "- suitable for: Dependency-sensitive data"
   ]
  },
  {
   "cell_type": "code",
   "execution_count": 10,
   "id": "3b635cbb-86e6-44a1-af25-854117d2afa4",
   "metadata": {
    "tags": []
   },
   "outputs": [
    {
     "name": "stdout",
     "output_type": "stream",
     "text": [
      "(10000, 8)\n"
     ]
    },
    {
     "data": {
      "text/html": [
       "<div>\n",
       "<style scoped>\n",
       "    .dataframe tbody tr th:only-of-type {\n",
       "        vertical-align: middle;\n",
       "    }\n",
       "\n",
       "    .dataframe tbody tr th {\n",
       "        vertical-align: top;\n",
       "    }\n",
       "\n",
       "    .dataframe thead th {\n",
       "        text-align: right;\n",
       "    }\n",
       "</style>\n",
       "<table border=\"1\" class=\"dataframe\">\n",
       "  <thead>\n",
       "    <tr style=\"text-align: right;\">\n",
       "      <th></th>\n",
       "      <th>customer_age_class</th>\n",
       "      <th>region</th>\n",
       "      <th>basket_package_price_disc</th>\n",
       "      <th>internet_package_price_disc</th>\n",
       "      <th>basket_days_until_contract_end</th>\n",
       "      <th>count_previous_cancellations_0_18</th>\n",
       "      <th>internet_product_name</th>\n",
       "      <th>flag_churn</th>\n",
       "    </tr>\n",
       "  </thead>\n",
       "  <tbody>\n",
       "    <tr>\n",
       "      <th>0</th>\n",
       "      <td>70 - 74</td>\n",
       "      <td>NRW</td>\n",
       "      <td>64.95</td>\n",
       "      <td>54.97</td>\n",
       "      <td>366</td>\n",
       "      <td>0</td>\n",
       "      <td>3PLAY PREMIUM HRZ</td>\n",
       "      <td>0</td>\n",
       "    </tr>\n",
       "    <tr>\n",
       "      <th>1</th>\n",
       "      <td>35 - 39</td>\n",
       "      <td>HSN</td>\n",
       "      <td>44.98</td>\n",
       "      <td>44.98</td>\n",
       "      <td>100</td>\n",
       "      <td>0</td>\n",
       "      <td>RED INTERNET &amp; PHONE CABLE U</td>\n",
       "      <td>1</td>\n",
       "    </tr>\n",
       "    <tr>\n",
       "      <th>2</th>\n",
       "      <td>35 - 39</td>\n",
       "      <td>NRW</td>\n",
       "      <td>54.98</td>\n",
       "      <td>54.98</td>\n",
       "      <td>30</td>\n",
       "      <td>0</td>\n",
       "      <td>RED INTERNET &amp; PHONE CABLE U</td>\n",
       "      <td>1</td>\n",
       "    </tr>\n",
       "    <tr>\n",
       "      <th>3</th>\n",
       "      <td>35 - 39</td>\n",
       "      <td>HSN</td>\n",
       "      <td>209.84</td>\n",
       "      <td>209.84</td>\n",
       "      <td>30</td>\n",
       "      <td>0</td>\n",
       "      <td>VF CABLEMAX</td>\n",
       "      <td>1</td>\n",
       "    </tr>\n",
       "    <tr>\n",
       "      <th>4</th>\n",
       "      <td>25 - 29</td>\n",
       "      <td>NRW</td>\n",
       "      <td>63.98</td>\n",
       "      <td>63.98</td>\n",
       "      <td>123</td>\n",
       "      <td>0</td>\n",
       "      <td>GIGAZUHAUSE KABEL</td>\n",
       "      <td>1</td>\n",
       "    </tr>\n",
       "  </tbody>\n",
       "</table>\n",
       "</div>"
      ],
      "text/plain": [
       "  customer_age_class region  basket_package_price_disc  \\\n",
       "0            70 - 74    NRW                      64.95   \n",
       "1            35 - 39    HSN                      44.98   \n",
       "2            35 - 39    NRW                      54.98   \n",
       "3            35 - 39    HSN                     209.84   \n",
       "4            25 - 29    NRW                      63.98   \n",
       "\n",
       "   internet_package_price_disc  basket_days_until_contract_end  \\\n",
       "0                        54.97                             366   \n",
       "1                        44.98                             100   \n",
       "2                        54.98                              30   \n",
       "3                       209.84                              30   \n",
       "4                        63.98                             123   \n",
       "\n",
       "   count_previous_cancellations_0_18         internet_product_name  flag_churn  \n",
       "0                                  0             3PLAY PREMIUM HRZ           0  \n",
       "1                                  0  RED INTERNET & PHONE CABLE U           1  \n",
       "2                                  0  RED INTERNET & PHONE CABLE U           1  \n",
       "3                                  0                   VF CABLEMAX           1  \n",
       "4                                  0             GIGAZUHAUSE KABEL           1  "
      ]
     },
     "execution_count": 10,
     "metadata": {},
     "output_type": "execute_result"
    }
   ],
   "source": [
    "import pandas as pd\n",
    "file_path = '../Data/data.csv'\n",
    "data = pd.read_csv(file_path)\n",
    "print(data.shape)\n",
    "data.head()"
   ]
  },
  {
   "cell_type": "markdown",
   "id": "33bb5cdf-6b5e-423e-bb22-63b209cd0472",
   "metadata": {
    "tags": []
   },
   "source": [
    "# CTGAN"
   ]
  },
  {
   "cell_type": "code",
   "execution_count": 3,
   "id": "a33f787c-a2dc-4303-b88c-ea35351edd64",
   "metadata": {
    "tags": []
   },
   "outputs": [],
   "source": [
    "import sdv\n",
    "import pandas as pd\n",
    "from ctgan import CTGAN"
   ]
  },
  {
   "cell_type": "code",
   "execution_count": 4,
   "id": "74877cc9-aa54-4761-b4f0-a2af7948d7d0",
   "metadata": {
    "tags": []
   },
   "outputs": [],
   "source": [
    "categorical_columns = ['customer_age_class', 'region', 'internet_product_name']\n",
    "\n",
    "for col in categorical_columns:\n",
    "    data[col] = data[col].astype('category')\n",
    "    \n",
    "ctgan = CTGAN(epochs=30)"
   ]
  },
  {
   "cell_type": "code",
   "execution_count": 5,
   "id": "b7d6377d-ddfb-4367-8755-d9126b780b84",
   "metadata": {
    "tags": []
   },
   "outputs": [
    {
     "name": "stderr",
     "output_type": "stream",
     "text": [
      "/opt/conda/lib/python3.10/site-packages/torch/autograd/graph.py:769: UserWarning: Attempting to run cuBLAS, but there was no current CUDA context! Attempting to set the primary context... (Triggered internally at ../aten/src/ATen/cuda/CublasHandlePool.cpp:135.)\n",
      "  return Variable._execution_engine.run_backward(  # Calls into the C++ engine to run the backward pass\n"
     ]
    }
   ],
   "source": [
    "ctgan.fit(data, discrete_columns=categorical_columns)"
   ]
  },
  {
   "cell_type": "code",
   "execution_count": 6,
   "id": "59908008-a925-4a2c-964b-b1e724ad9922",
   "metadata": {
    "tags": []
   },
   "outputs": [],
   "source": [
    "ctgan_data = ctgan.sample(10000)"
   ]
  },
  {
   "cell_type": "code",
   "execution_count": 7,
   "id": "8271626f-e0db-401e-ae15-6525a313bcde",
   "metadata": {
    "tags": []
   },
   "outputs": [
    {
     "data": {
      "text/html": [
       "<div>\n",
       "<style scoped>\n",
       "    .dataframe tbody tr th:only-of-type {\n",
       "        vertical-align: middle;\n",
       "    }\n",
       "\n",
       "    .dataframe tbody tr th {\n",
       "        vertical-align: top;\n",
       "    }\n",
       "\n",
       "    .dataframe thead th {\n",
       "        text-align: right;\n",
       "    }\n",
       "</style>\n",
       "<table border=\"1\" class=\"dataframe\">\n",
       "  <thead>\n",
       "    <tr style=\"text-align: right;\">\n",
       "      <th></th>\n",
       "      <th>customer_age_class</th>\n",
       "      <th>region</th>\n",
       "      <th>basket_package_price_disc</th>\n",
       "      <th>internet_package_price_disc</th>\n",
       "      <th>basket_days_until_contract_end</th>\n",
       "      <th>count_previous_cancellations_0_18</th>\n",
       "      <th>internet_product_name</th>\n",
       "      <th>flag_churn</th>\n",
       "    </tr>\n",
       "  </thead>\n",
       "  <tbody>\n",
       "    <tr>\n",
       "      <th>0</th>\n",
       "      <td>60 - 64</td>\n",
       "      <td>NRW</td>\n",
       "      <td>25.156373</td>\n",
       "      <td>46.210009</td>\n",
       "      <td>238</td>\n",
       "      <td>0</td>\n",
       "      <td>VF RIP U-TREUE</td>\n",
       "      <td>1</td>\n",
       "    </tr>\n",
       "    <tr>\n",
       "      <th>1</th>\n",
       "      <td>55 - 59</td>\n",
       "      <td>HSN</td>\n",
       "      <td>46.666848</td>\n",
       "      <td>45.983056</td>\n",
       "      <td>32</td>\n",
       "      <td>0</td>\n",
       "      <td>RED INTERNET &amp; PHONE CABLE U</td>\n",
       "      <td>0</td>\n",
       "    </tr>\n",
       "    <tr>\n",
       "      <th>2</th>\n",
       "      <td>75 - 79</td>\n",
       "      <td>KBW</td>\n",
       "      <td>42.314876</td>\n",
       "      <td>2.452784</td>\n",
       "      <td>32</td>\n",
       "      <td>0</td>\n",
       "      <td>GIGAZUHAUSE KABEL</td>\n",
       "      <td>1</td>\n",
       "    </tr>\n",
       "    <tr>\n",
       "      <th>3</th>\n",
       "      <td>30 - 34</td>\n",
       "      <td>NRW</td>\n",
       "      <td>36.100965</td>\n",
       "      <td>34.884192</td>\n",
       "      <td>118</td>\n",
       "      <td>0</td>\n",
       "      <td>VF CABLEMAX</td>\n",
       "      <td>1</td>\n",
       "    </tr>\n",
       "    <tr>\n",
       "      <th>4</th>\n",
       "      <td>45 - 49</td>\n",
       "      <td>KBW</td>\n",
       "      <td>15.698746</td>\n",
       "      <td>45.184381</td>\n",
       "      <td>29</td>\n",
       "      <td>0</td>\n",
       "      <td>3PLAY FLY</td>\n",
       "      <td>1</td>\n",
       "    </tr>\n",
       "  </tbody>\n",
       "</table>\n",
       "</div>"
      ],
      "text/plain": [
       "  customer_age_class region  basket_package_price_disc  \\\n",
       "0            60 - 64    NRW                  25.156373   \n",
       "1            55 - 59    HSN                  46.666848   \n",
       "2            75 - 79    KBW                  42.314876   \n",
       "3            30 - 34    NRW                  36.100965   \n",
       "4            45 - 49    KBW                  15.698746   \n",
       "\n",
       "   internet_package_price_disc  basket_days_until_contract_end  \\\n",
       "0                    46.210009                             238   \n",
       "1                    45.983056                              32   \n",
       "2                     2.452784                              32   \n",
       "3                    34.884192                             118   \n",
       "4                    45.184381                              29   \n",
       "\n",
       "   count_previous_cancellations_0_18         internet_product_name  flag_churn  \n",
       "0                                  0                VF RIP U-TREUE           1  \n",
       "1                                  0  RED INTERNET & PHONE CABLE U           0  \n",
       "2                                  0             GIGAZUHAUSE KABEL           1  \n",
       "3                                  0                   VF CABLEMAX           1  \n",
       "4                                  0                     3PLAY FLY           1  "
      ]
     },
     "execution_count": 7,
     "metadata": {},
     "output_type": "execute_result"
    }
   ],
   "source": [
    "ctgan_data.head()"
   ]
  },
  {
   "cell_type": "code",
   "execution_count": 8,
   "id": "f571161b-c22f-4e8a-a3e4-e7f4b83d28cf",
   "metadata": {
    "tags": []
   },
   "outputs": [],
   "source": [
    "ctgan_data.to_csv('ctgan_data.csv', index=False)"
   ]
  },
  {
   "cell_type": "markdown",
   "id": "43ce69cd-b756-4f53-be44-815a3cb24c17",
   "metadata": {
    "jp-MarkdownHeadingCollapsed": true,
    "tags": []
   },
   "source": [
    "# TVAE"
   ]
  },
  {
   "cell_type": "markdown",
   "id": "8dbd872d-2b71-47f5-82a6-bfbf31319530",
   "metadata": {},
   "source": [
    "Problems\n",
    "\n",
    "Couldn't find TVAE in sdv. Because sdv is old verioned and has been changed organizationally and the names as well. Used the dir to finf TVAE, whichis named TVAESynthesizer"
   ]
  },
  {
   "cell_type": "code",
   "execution_count": 21,
   "id": "3150de38-b781-415e-9c2e-bafe93c656b5",
   "metadata": {
    "tags": []
   },
   "outputs": [
    {
     "name": "stdout",
     "output_type": "stream",
     "text": [
      "['CTGANSynthesizer', 'CopulaGANSynthesizer', 'GaussianCopulaSynthesizer', 'TVAESynthesizer', '__all__', '__builtins__', '__cached__', '__doc__', '__file__', '__loader__', '__name__', '__package__', '__path__', '__spec__', 'base', 'copulagan', 'copulas', 'ctgan', 'utils']\n"
     ]
    }
   ],
   "source": [
    "print(dir(sdv.single_table))"
   ]
  },
  {
   "cell_type": "code",
   "execution_count": 9,
   "id": "7ec70c2a-5c7f-4dd9-84e6-7149436a84d4",
   "metadata": {
    "tags": []
   },
   "outputs": [],
   "source": [
    "import pandas as pd\n",
    "from sdv.single_table import TVAESynthesizer\n",
    "from sdv.metadata import SingleTableMetadata"
   ]
  },
  {
   "cell_type": "code",
   "execution_count": 10,
   "id": "6ce07fde-f8fd-4fcf-bdd8-2b8902cbffef",
   "metadata": {
    "tags": []
   },
   "outputs": [],
   "source": [
    "metadata = SingleTableMetadata()\n",
    "\n",
    "metadata.add_column('customer_age_class', sdtype='categorical')\n",
    "metadata.add_column('region', sdtype='categorical')\n",
    "metadata.add_column('internet_product_name', sdtype='categorical')\n",
    "\n",
    "for column in data.select_dtypes(include=['int64', 'float64']).columns:\n",
    "    metadata.add_column(column, sdtype='numerical')"
   ]
  },
  {
   "cell_type": "code",
   "execution_count": 11,
   "id": "cf85023c-4ecf-474b-862a-679eb1066d86",
   "metadata": {
    "tags": []
   },
   "outputs": [],
   "source": [
    "model = TVAESynthesizer(metadata=metadata, epochs=10, batch_size=32)\n",
    "model.fit(data)"
   ]
  },
  {
   "cell_type": "code",
   "execution_count": 12,
   "id": "d673168d-381b-42d3-a44b-89e9d3c9e9ef",
   "metadata": {
    "tags": []
   },
   "outputs": [],
   "source": [
    "tvae_data = model.sample(num_rows = 10000)"
   ]
  },
  {
   "cell_type": "code",
   "execution_count": 13,
   "id": "0fe466ca-ce83-4e1d-b211-be9490486099",
   "metadata": {
    "tags": []
   },
   "outputs": [
    {
     "data": {
      "text/html": [
       "<div>\n",
       "<style scoped>\n",
       "    .dataframe tbody tr th:only-of-type {\n",
       "        vertical-align: middle;\n",
       "    }\n",
       "\n",
       "    .dataframe tbody tr th {\n",
       "        vertical-align: top;\n",
       "    }\n",
       "\n",
       "    .dataframe thead th {\n",
       "        text-align: right;\n",
       "    }\n",
       "</style>\n",
       "<table border=\"1\" class=\"dataframe\">\n",
       "  <thead>\n",
       "    <tr style=\"text-align: right;\">\n",
       "      <th></th>\n",
       "      <th>customer_age_class</th>\n",
       "      <th>region</th>\n",
       "      <th>internet_product_name</th>\n",
       "      <th>basket_package_price_disc</th>\n",
       "      <th>internet_package_price_disc</th>\n",
       "      <th>basket_days_until_contract_end</th>\n",
       "      <th>count_previous_cancellations_0_18</th>\n",
       "      <th>flag_churn</th>\n",
       "    </tr>\n",
       "  </thead>\n",
       "  <tbody>\n",
       "    <tr>\n",
       "      <th>0</th>\n",
       "      <td>80 and over</td>\n",
       "      <td>NRW</td>\n",
       "      <td>VF RIP U-TREUE</td>\n",
       "      <td>32.74</td>\n",
       "      <td>37.95</td>\n",
       "      <td>29</td>\n",
       "      <td>0</td>\n",
       "      <td>0</td>\n",
       "    </tr>\n",
       "    <tr>\n",
       "      <th>1</th>\n",
       "      <td>55 - 59</td>\n",
       "      <td>NRW</td>\n",
       "      <td>RED INTERNET &amp; PHONE CABLE U</td>\n",
       "      <td>88.03</td>\n",
       "      <td>49.23</td>\n",
       "      <td>31</td>\n",
       "      <td>0</td>\n",
       "      <td>0</td>\n",
       "    </tr>\n",
       "    <tr>\n",
       "      <th>2</th>\n",
       "      <td>50 - 54</td>\n",
       "      <td>NRW</td>\n",
       "      <td>VF CABLEMAX</td>\n",
       "      <td>41.67</td>\n",
       "      <td>49.63</td>\n",
       "      <td>31</td>\n",
       "      <td>0</td>\n",
       "      <td>0</td>\n",
       "    </tr>\n",
       "    <tr>\n",
       "      <th>3</th>\n",
       "      <td>35 - 39</td>\n",
       "      <td>NRW</td>\n",
       "      <td>VF CABLEMAX</td>\n",
       "      <td>49.96</td>\n",
       "      <td>44.20</td>\n",
       "      <td>28</td>\n",
       "      <td>0</td>\n",
       "      <td>1</td>\n",
       "    </tr>\n",
       "    <tr>\n",
       "      <th>4</th>\n",
       "      <td>25 - 29</td>\n",
       "      <td>NRW</td>\n",
       "      <td>RED INTERNET &amp; PHONE CABLE U</td>\n",
       "      <td>14.78</td>\n",
       "      <td>34.11</td>\n",
       "      <td>30</td>\n",
       "      <td>0</td>\n",
       "      <td>1</td>\n",
       "    </tr>\n",
       "    <tr>\n",
       "      <th>...</th>\n",
       "      <td>...</td>\n",
       "      <td>...</td>\n",
       "      <td>...</td>\n",
       "      <td>...</td>\n",
       "      <td>...</td>\n",
       "      <td>...</td>\n",
       "      <td>...</td>\n",
       "      <td>...</td>\n",
       "    </tr>\n",
       "    <tr>\n",
       "      <th>9995</th>\n",
       "      <td>25 - 29</td>\n",
       "      <td>NRW</td>\n",
       "      <td>VF CABLEMAX</td>\n",
       "      <td>48.33</td>\n",
       "      <td>45.85</td>\n",
       "      <td>29</td>\n",
       "      <td>0</td>\n",
       "      <td>1</td>\n",
       "    </tr>\n",
       "    <tr>\n",
       "      <th>9996</th>\n",
       "      <td>50 - 54</td>\n",
       "      <td>NRW</td>\n",
       "      <td>VF CABLEMAX</td>\n",
       "      <td>69.10</td>\n",
       "      <td>49.48</td>\n",
       "      <td>28</td>\n",
       "      <td>0</td>\n",
       "      <td>0</td>\n",
       "    </tr>\n",
       "    <tr>\n",
       "      <th>9997</th>\n",
       "      <td>35 - 39</td>\n",
       "      <td>NRW</td>\n",
       "      <td>RED INTERNET &amp; PHONE CABLE U</td>\n",
       "      <td>41.50</td>\n",
       "      <td>35.21</td>\n",
       "      <td>30</td>\n",
       "      <td>0</td>\n",
       "      <td>0</td>\n",
       "    </tr>\n",
       "    <tr>\n",
       "      <th>9998</th>\n",
       "      <td>50 - 54</td>\n",
       "      <td>NRW</td>\n",
       "      <td>RED INTERNET &amp; PHONE CABLE U</td>\n",
       "      <td>39.52</td>\n",
       "      <td>44.56</td>\n",
       "      <td>31</td>\n",
       "      <td>0</td>\n",
       "      <td>0</td>\n",
       "    </tr>\n",
       "    <tr>\n",
       "      <th>9999</th>\n",
       "      <td>55 - 59</td>\n",
       "      <td>NRW</td>\n",
       "      <td>VF CABLEMAX</td>\n",
       "      <td>52.47</td>\n",
       "      <td>49.20</td>\n",
       "      <td>32</td>\n",
       "      <td>0</td>\n",
       "      <td>0</td>\n",
       "    </tr>\n",
       "  </tbody>\n",
       "</table>\n",
       "<p>10000 rows × 8 columns</p>\n",
       "</div>"
      ],
      "text/plain": [
       "     customer_age_class region         internet_product_name  \\\n",
       "0           80 and over    NRW                VF RIP U-TREUE   \n",
       "1               55 - 59    NRW  RED INTERNET & PHONE CABLE U   \n",
       "2               50 - 54    NRW                   VF CABLEMAX   \n",
       "3               35 - 39    NRW                   VF CABLEMAX   \n",
       "4               25 - 29    NRW  RED INTERNET & PHONE CABLE U   \n",
       "...                 ...    ...                           ...   \n",
       "9995            25 - 29    NRW                   VF CABLEMAX   \n",
       "9996            50 - 54    NRW                   VF CABLEMAX   \n",
       "9997            35 - 39    NRW  RED INTERNET & PHONE CABLE U   \n",
       "9998            50 - 54    NRW  RED INTERNET & PHONE CABLE U   \n",
       "9999            55 - 59    NRW                   VF CABLEMAX   \n",
       "\n",
       "      basket_package_price_disc  internet_package_price_disc  \\\n",
       "0                         32.74                        37.95   \n",
       "1                         88.03                        49.23   \n",
       "2                         41.67                        49.63   \n",
       "3                         49.96                        44.20   \n",
       "4                         14.78                        34.11   \n",
       "...                         ...                          ...   \n",
       "9995                      48.33                        45.85   \n",
       "9996                      69.10                        49.48   \n",
       "9997                      41.50                        35.21   \n",
       "9998                      39.52                        44.56   \n",
       "9999                      52.47                        49.20   \n",
       "\n",
       "      basket_days_until_contract_end  count_previous_cancellations_0_18  \\\n",
       "0                                 29                                  0   \n",
       "1                                 31                                  0   \n",
       "2                                 31                                  0   \n",
       "3                                 28                                  0   \n",
       "4                                 30                                  0   \n",
       "...                              ...                                ...   \n",
       "9995                              29                                  0   \n",
       "9996                              28                                  0   \n",
       "9997                              30                                  0   \n",
       "9998                              31                                  0   \n",
       "9999                              32                                  0   \n",
       "\n",
       "      flag_churn  \n",
       "0              0  \n",
       "1              0  \n",
       "2              0  \n",
       "3              1  \n",
       "4              1  \n",
       "...          ...  \n",
       "9995           1  \n",
       "9996           0  \n",
       "9997           0  \n",
       "9998           0  \n",
       "9999           0  \n",
       "\n",
       "[10000 rows x 8 columns]"
      ]
     },
     "execution_count": 13,
     "metadata": {},
     "output_type": "execute_result"
    }
   ],
   "source": [
    "tvae_data"
   ]
  },
  {
   "cell_type": "code",
   "execution_count": 14,
   "id": "71ee238f-81f1-4b75-8f3f-96c6081c1e77",
   "metadata": {
    "tags": []
   },
   "outputs": [],
   "source": [
    "tvae_data.to_csv('tvae_data.csv', index=False)"
   ]
  },
  {
   "cell_type": "markdown",
   "id": "8ac92a68-3521-4d38-a404-3e2a95261d53",
   "metadata": {
    "tags": []
   },
   "source": [
    "# Synthpop"
   ]
  },
  {
   "cell_type": "code",
   "execution_count": 49,
   "id": "123b96cb-9fe0-480a-b2d2-c60a54cb5b7f",
   "metadata": {
    "tags": []
   },
   "outputs": [
    {
     "data": {
      "text/html": [
       "<div>\n",
       "<style scoped>\n",
       "    .dataframe tbody tr th:only-of-type {\n",
       "        vertical-align: middle;\n",
       "    }\n",
       "\n",
       "    .dataframe tbody tr th {\n",
       "        vertical-align: top;\n",
       "    }\n",
       "\n",
       "    .dataframe thead th {\n",
       "        text-align: right;\n",
       "    }\n",
       "</style>\n",
       "<table border=\"1\" class=\"dataframe\">\n",
       "  <thead>\n",
       "    <tr style=\"text-align: right;\">\n",
       "      <th></th>\n",
       "      <th>customer_age_class</th>\n",
       "      <th>region</th>\n",
       "      <th>basket_package_price_disc</th>\n",
       "      <th>internet_package_price_disc</th>\n",
       "      <th>basket_days_until_contract_end</th>\n",
       "      <th>count_previous_cancellations_0_18</th>\n",
       "      <th>internet_product_name</th>\n",
       "      <th>flag_churn</th>\n",
       "    </tr>\n",
       "  </thead>\n",
       "  <tbody>\n",
       "    <tr>\n",
       "      <th>0</th>\n",
       "      <td>70 - 74</td>\n",
       "      <td>NRW</td>\n",
       "      <td>64.95</td>\n",
       "      <td>54.97</td>\n",
       "      <td>366</td>\n",
       "      <td>0</td>\n",
       "      <td>3PLAY PREMIUM HRZ</td>\n",
       "      <td>0</td>\n",
       "    </tr>\n",
       "    <tr>\n",
       "      <th>1</th>\n",
       "      <td>35 - 39</td>\n",
       "      <td>HSN</td>\n",
       "      <td>44.98</td>\n",
       "      <td>44.98</td>\n",
       "      <td>100</td>\n",
       "      <td>0</td>\n",
       "      <td>RED INTERNET &amp; PHONE CABLE U</td>\n",
       "      <td>1</td>\n",
       "    </tr>\n",
       "    <tr>\n",
       "      <th>2</th>\n",
       "      <td>35 - 39</td>\n",
       "      <td>NRW</td>\n",
       "      <td>54.98</td>\n",
       "      <td>54.98</td>\n",
       "      <td>30</td>\n",
       "      <td>0</td>\n",
       "      <td>RED INTERNET &amp; PHONE CABLE U</td>\n",
       "      <td>1</td>\n",
       "    </tr>\n",
       "    <tr>\n",
       "      <th>3</th>\n",
       "      <td>35 - 39</td>\n",
       "      <td>HSN</td>\n",
       "      <td>209.84</td>\n",
       "      <td>209.84</td>\n",
       "      <td>30</td>\n",
       "      <td>0</td>\n",
       "      <td>VF CABLEMAX</td>\n",
       "      <td>1</td>\n",
       "    </tr>\n",
       "    <tr>\n",
       "      <th>4</th>\n",
       "      <td>25 - 29</td>\n",
       "      <td>NRW</td>\n",
       "      <td>63.98</td>\n",
       "      <td>63.98</td>\n",
       "      <td>123</td>\n",
       "      <td>0</td>\n",
       "      <td>GIGAZUHAUSE KABEL</td>\n",
       "      <td>1</td>\n",
       "    </tr>\n",
       "  </tbody>\n",
       "</table>\n",
       "</div>"
      ],
      "text/plain": [
       "  customer_age_class region  basket_package_price_disc  \\\n",
       "0            70 - 74    NRW                      64.95   \n",
       "1            35 - 39    HSN                      44.98   \n",
       "2            35 - 39    NRW                      54.98   \n",
       "3            35 - 39    HSN                     209.84   \n",
       "4            25 - 29    NRW                      63.98   \n",
       "\n",
       "   internet_package_price_disc  basket_days_until_contract_end  \\\n",
       "0                        54.97                             366   \n",
       "1                        44.98                             100   \n",
       "2                        54.98                              30   \n",
       "3                       209.84                              30   \n",
       "4                        63.98                             123   \n",
       "\n",
       "   count_previous_cancellations_0_18         internet_product_name flag_churn  \n",
       "0                                  0             3PLAY PREMIUM HRZ          0  \n",
       "1                                  0  RED INTERNET & PHONE CABLE U          1  \n",
       "2                                  0  RED INTERNET & PHONE CABLE U          1  \n",
       "3                                  0                   VF CABLEMAX          1  \n",
       "4                                  0             GIGAZUHAUSE KABEL          1  "
      ]
     },
     "execution_count": 49,
     "metadata": {},
     "output_type": "execute_result"
    }
   ],
   "source": [
    "file_path = '../Data/data.csv'\n",
    "data = pd.read_csv(file_path)\n",
    "\n",
    "# Change the flag_churn from int to object\n",
    "data['flag_churn'] = data['flag_churn'].astype('object')\n",
    "data.head()"
   ]
  },
  {
   "cell_type": "code",
   "execution_count": 51,
   "id": "f5346dd9-0692-43eb-b138-10fa0d0951e3",
   "metadata": {},
   "outputs": [],
   "source": [
    "import pandas as pd\n",
    "import numpy as np\n",
    "from sklearn.ensemble import RandomForestRegressor, RandomForestClassifier\n",
    "from sklearn.preprocessing import LabelEncoder\n",
    "\n",
    "def synthpop(data):\n",
    "    synthetic_data = pd.DataFrame(columns=data.columns)\n",
    "    encoders = {}\n",
    "    \n",
    "    for col in data.columns:\n",
    "        predictors = data.drop(columns=[col])\n",
    "        target=data[col]\n",
    "        \n",
    "        # Encode categorical columns in predictors\n",
    "        for pred_col in predictors.select_dtypes(include=['object']).columns:\n",
    "            if pred_col not in encoders:\n",
    "                encoders[pred_col] = LabelEncoder()\n",
    "                predictors[pred_col] = encoders[pred_col].fit_transform(predictors[pred_col])\n",
    "            else:\n",
    "                predictors[pred_col] = encoders[pred_col].transform(predictors[pred_col])\n",
    "        \n",
    "        # Encode target column if it is categorical\n",
    "        if target.dtypes == 'object':\n",
    "            if col not in encoders:\n",
    "                encoders[col] = LabelEncoder()\n",
    "                target = encoders[col].fit_transform(target)\n",
    "            else:\n",
    "                target = encoders[col].transform(target)\n",
    "                \n",
    "        # Align target index with predictors using boolean indexing\n",
    "        predictors = predictors.dropna()\n",
    "        target = pd.Series(target).iloc[predictors.index]\n",
    "        \n",
    "        # Choose model based on data type\n",
    "        if target.dtype in ['int64', 'float64']:\n",
    "            model = RandomForestRegressor()\n",
    "        else:\n",
    "            model = RandomForestClassifier\n",
    "        \n",
    "        model.fit(predictors, target)\n",
    "        \n",
    "        synthetic_col = model.predict(predictors)\n",
    "        \n",
    "        if col in encoders:\n",
    "            synthetic_col = encoders[col].inverse_transform(synthetic_col.astype(int))\n",
    "            \n",
    "        synthetic_data[col] = synthetic_col\n",
    "        \n",
    "    return synthetic_data"
   ]
  },
  {
   "cell_type": "code",
   "execution_count": 52,
   "id": "326cf85d-0198-4db5-89d7-560b24756142",
   "metadata": {},
   "outputs": [
    {
     "data": {
      "text/html": [
       "<div>\n",
       "<style scoped>\n",
       "    .dataframe tbody tr th:only-of-type {\n",
       "        vertical-align: middle;\n",
       "    }\n",
       "\n",
       "    .dataframe tbody tr th {\n",
       "        vertical-align: top;\n",
       "    }\n",
       "\n",
       "    .dataframe thead th {\n",
       "        text-align: right;\n",
       "    }\n",
       "</style>\n",
       "<table border=\"1\" class=\"dataframe\">\n",
       "  <thead>\n",
       "    <tr style=\"text-align: right;\">\n",
       "      <th></th>\n",
       "      <th>customer_age_class</th>\n",
       "      <th>region</th>\n",
       "      <th>basket_package_price_disc</th>\n",
       "      <th>internet_package_price_disc</th>\n",
       "      <th>basket_days_until_contract_end</th>\n",
       "      <th>count_previous_cancellations_0_18</th>\n",
       "      <th>internet_product_name</th>\n",
       "      <th>flag_churn</th>\n",
       "    </tr>\n",
       "  </thead>\n",
       "  <tbody>\n",
       "    <tr>\n",
       "      <th>0</th>\n",
       "      <td>65 - 69</td>\n",
       "      <td>KBW</td>\n",
       "      <td>64.93770</td>\n",
       "      <td>52.4816</td>\n",
       "      <td>321.580000</td>\n",
       "      <td>0.12</td>\n",
       "      <td>3PLAY TREUE GENRE</td>\n",
       "      <td>0</td>\n",
       "    </tr>\n",
       "    <tr>\n",
       "      <th>1</th>\n",
       "      <td>35 - 39</td>\n",
       "      <td>HSN</td>\n",
       "      <td>45.24920</td>\n",
       "      <td>44.9800</td>\n",
       "      <td>42.196849</td>\n",
       "      <td>0.20</td>\n",
       "      <td>RIP CABLE U TREUE</td>\n",
       "      <td>0</td>\n",
       "    </tr>\n",
       "    <tr>\n",
       "      <th>2</th>\n",
       "      <td>50 - 54</td>\n",
       "      <td>KBW</td>\n",
       "      <td>55.03025</td>\n",
       "      <td>54.9800</td>\n",
       "      <td>31.814500</td>\n",
       "      <td>0.00</td>\n",
       "      <td>TREUEPLUS</td>\n",
       "      <td>0</td>\n",
       "    </tr>\n",
       "    <tr>\n",
       "      <th>3</th>\n",
       "      <td>35 - 39</td>\n",
       "      <td>HSN</td>\n",
       "      <td>209.55640</td>\n",
       "      <td>205.6992</td>\n",
       "      <td>30.090000</td>\n",
       "      <td>0.00</td>\n",
       "      <td>VF CABLEMAX</td>\n",
       "      <td>0</td>\n",
       "    </tr>\n",
       "    <tr>\n",
       "      <th>4</th>\n",
       "      <td>30 - 34</td>\n",
       "      <td>KBW</td>\n",
       "      <td>63.76010</td>\n",
       "      <td>63.4397</td>\n",
       "      <td>160.064810</td>\n",
       "      <td>0.04</td>\n",
       "      <td>GIGAZUHAUSE KABEL</td>\n",
       "      <td>0</td>\n",
       "    </tr>\n",
       "  </tbody>\n",
       "</table>\n",
       "</div>"
      ],
      "text/plain": [
       "  customer_age_class region  basket_package_price_disc  \\\n",
       "0            65 - 69    KBW                   64.93770   \n",
       "1            35 - 39    HSN                   45.24920   \n",
       "2            50 - 54    KBW                   55.03025   \n",
       "3            35 - 39    HSN                  209.55640   \n",
       "4            30 - 34    KBW                   63.76010   \n",
       "\n",
       "   internet_package_price_disc  basket_days_until_contract_end  \\\n",
       "0                      52.4816                      321.580000   \n",
       "1                      44.9800                       42.196849   \n",
       "2                      54.9800                       31.814500   \n",
       "3                     205.6992                       30.090000   \n",
       "4                      63.4397                      160.064810   \n",
       "\n",
       "   count_previous_cancellations_0_18 internet_product_name flag_churn  \n",
       "0                               0.12     3PLAY TREUE GENRE          0  \n",
       "1                               0.20     RIP CABLE U TREUE          0  \n",
       "2                               0.00             TREUEPLUS          0  \n",
       "3                               0.00           VF CABLEMAX          0  \n",
       "4                               0.04     GIGAZUHAUSE KABEL          0  "
      ]
     },
     "execution_count": 52,
     "metadata": {},
     "output_type": "execute_result"
    }
   ],
   "source": [
    "synthetic_data = synthpop(data)\n",
    "print(synthetic_data.shape)\n",
    "synthetic_data.head()"
   ]
  },
  {
   "cell_type": "code",
   "execution_count": 54,
   "id": "efda05ee-7640-4722-afc0-09330417077c",
   "metadata": {},
   "outputs": [],
   "source": [
    "synthetic_data.to_csv('synthpop_data.csv', index=False)"
   ]
  },
  {
   "cell_type": "markdown",
   "id": "c4a2533d-705b-44a1-a18b-a441ec899d5f",
   "metadata": {
    "tags": []
   },
   "source": [
    "# DataSynthesizer"
   ]
  },
  {
   "cell_type": "code",
   "execution_count": 20,
   "id": "402e1ec1-dca9-44b0-a1d3-f1172c434c9c",
   "metadata": {
    "tags": []
   },
   "outputs": [],
   "source": [
    "#https://github.com/DataResponsibly/DataSynthesizer/blob/master/notebooks/DataSynthesizer__random_mode.ipynb\n",
    "from DataSynthesizer.DataDescriber import DataDescriber\n",
    "from DataSynthesizer.DataGenerator import DataGenerator\n",
    "from DataSynthesizer.ModelInspector import ModelInspector\n",
    "from DataSynthesizer.lib.utils import read_json_file, display_bayesian_network\n",
    "\n",
    "import pandas as pd"
   ]
  },
  {
   "cell_type": "code",
   "execution_count": 21,
   "id": "18419d96-f40e-4857-9d36-463d5f165f9a",
   "metadata": {
    "tags": []
   },
   "outputs": [],
   "source": [
    "# An attribute is categorical if its domain size is less than this threshold.\n",
    "# Here modify the threshold to adapt to the domain size of \"education\" (which is 14 in input dataset).\n",
    "threshold_value = 70\n",
    "\n",
    "# Number of tuples generated in synthetic dataset.\n",
    "num_tuples_to_generate = 10000 # Here 32561 is the same as input dataset, but it can be set to another number."
   ]
  },
  {
   "cell_type": "code",
   "execution_count": 22,
   "id": "89cb95de-849a-4f81-9073-3dae8c71b837",
   "metadata": {
    "tags": []
   },
   "outputs": [],
   "source": [
    "input_data = '../Data/data.csv'\n",
    "mode = 'random_mode'\n",
    "description_file = f'./DataSynthesizer/out/{mode}/description.json'\n",
    "synthetic_data = f'datasythesizer_data.csv'"
   ]
  },
  {
   "cell_type": "code",
   "execution_count": 23,
   "id": "9c43dec1-0237-484d-9df8-51945efc5435",
   "metadata": {
    "tags": []
   },
   "outputs": [],
   "source": [
    "describer = DataDescriber(category_threshold=threshold_value)\n",
    "describer.describe_dataset_in_random_mode(input_data)\n",
    "describer.save_dataset_description_to_file(description_file)"
   ]
  },
  {
   "cell_type": "code",
   "execution_count": 24,
   "id": "f5288b73-4dbb-462a-a6e2-f247451caac6",
   "metadata": {
    "tags": []
   },
   "outputs": [],
   "source": [
    "generator = DataGenerator()\n",
    "generator.generate_dataset_in_random_mode(num_tuples_to_generate, description_file)\n",
    "generator.save_synthetic_data(synthetic_data)"
   ]
  },
  {
   "cell_type": "code",
   "execution_count": null,
   "id": "0d91b4bf-f46a-4aa3-8368-61c9be970c03",
   "metadata": {},
   "outputs": [],
   "source": []
  }
 ],
 "metadata": {
  "environment": {
   "kernel": "conda-base-py",
   "name": "workbench-notebooks.m125",
   "type": "gcloud",
   "uri": "us-docker.pkg.dev/deeplearning-platform-release/gcr.io/workbench-notebooks:m125"
  },
  "kernelspec": {
   "display_name": "Python 3 (ipykernel) (Local)",
   "language": "python",
   "name": "conda-base-py"
  },
  "language_info": {
   "codemirror_mode": {
    "name": "ipython",
    "version": 3
   },
   "file_extension": ".py",
   "mimetype": "text/x-python",
   "name": "python",
   "nbconvert_exporter": "python",
   "pygments_lexer": "ipython3",
   "version": "3.10.15"
  }
 },
 "nbformat": 4,
 "nbformat_minor": 5
}
